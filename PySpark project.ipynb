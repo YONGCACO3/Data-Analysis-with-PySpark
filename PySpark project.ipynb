{
  "cells": [
    {
      "cell_type": "markdown",
      "metadata": {
        "id": "F2YNhXuUwGNl"
      },
      "source": [
        "# Comprehensive Data Analysis with PySpark"
      ]
    },
    {
      "cell_type": "markdown",
      "metadata": {
        "id": "HLabZyclYv17"
      },
      "source": [
        "# Introduction\n",
        "\n",
        "In this notebook, we will be exploring the powerful capabilities of PySpark. PySpark is the Python library for Apache Spark, an open-source, distributed computing system used for big data processing and analytics.\n",
        "\n",
        "We will be using Google Colab for our work. While not strictly necessary for PySpark, Google Colab provides several advantages. It offers a convenient, cloud-based environment for using PySpark, providing free access to computational resources like CPUs and GPUs\n",
        "\n",
        "Our journey will take us through the process of installing PySpark, loading and cleaning data, performing some exploratory data analysis, and finally, drawing some conclusions from our data. We hope this notebook serves as a useful guide for your own data processing and analysis tasks with PySpark."
      ]
    },
    {
      "cell_type": "markdown",
      "metadata": {
        "id": "rdqdgDc7Yv18"
      },
      "source": [
        "# Table of Contents\n",
        "1. [Introduction](#Introduction)\n",
        "2. [Exploratory Data Analysis (EDA) on the First Dataset](#eda-first-dataset)\n",
        "3. [Query the data](#eda-first-dataset)\n",
        "4. [EDA on another dataset, query & visulization](#eda-second-dataset)\n",
        "5. [Join the two datasets, query & visualization](#eda-joined-dataset)\n"
      ]
    },
    {
      "cell_type": "code",
      "execution_count": 3,
      "metadata": {
        "id": "3kwCr8_qYv18"
      },
      "outputs": [],
      "source": []
    },
    {
      "cell_type": "markdown",
      "metadata": {
        "id": "oXFXg7oeYv19"
      },
      "source": [
        "### Let's mount the google drive"
      ]
    },
    {
      "cell_type": "code",
      "execution_count": 4,
      "metadata": {
        "colab": {
          "base_uri": "https://localhost:8080/"
        },
        "id": "MmQC7J5cvkzE",
        "outputId": "682f2a44-8381-4c2c-d3e7-50b679143241"
      },
      "outputs": [
        {
          "output_type": "stream",
          "name": "stdout",
          "text": [
            "Mounted at /content/drive\n"
          ]
        }
      ],
      "source": [
        "from google.colab import drive\n",
        "drive.mount('/content/drive')"
      ]
    },
    {
      "cell_type": "markdown",
      "metadata": {
        "id": "cs9EInKyWicZ"
      },
      "source": [
        "Installing pyspark module\n",
        "\n"
      ]
    },
    {
      "cell_type": "code",
      "execution_count": 5,
      "metadata": {
        "colab": {
          "base_uri": "https://localhost:8080/"
        },
        "id": "pzGU9uWWYv19",
        "outputId": "928beaf5-3e3c-4d4a-a582-e12635591a80"
      },
      "outputs": [
        {
          "output_type": "stream",
          "name": "stdout",
          "text": [
            "Collecting pyspark\n",
            "  Downloading pyspark-3.5.0.tar.gz (316.9 MB)\n",
            "\u001b[2K     \u001b[90m━━━━━━━━━━━━━━━━━━━━━━━━━━━━━━━━━━━━━━━━\u001b[0m \u001b[32m316.9/316.9 MB\u001b[0m \u001b[31m2.2 MB/s\u001b[0m eta \u001b[36m0:00:00\u001b[0m\n",
            "\u001b[?25h  Preparing metadata (setup.py) ... \u001b[?25l\u001b[?25hdone\n",
            "Requirement already satisfied: py4j==0.10.9.7 in /usr/local/lib/python3.10/dist-packages (from pyspark) (0.10.9.7)\n",
            "Building wheels for collected packages: pyspark\n",
            "  Building wheel for pyspark (setup.py) ... \u001b[?25l\u001b[?25hdone\n",
            "  Created wheel for pyspark: filename=pyspark-3.5.0-py2.py3-none-any.whl size=317425345 sha256=dd1de1afd7d9f548da270c39aa512b05be26c35be9bac9ff1ae5dacdd4f47892\n",
            "  Stored in directory: /root/.cache/pip/wheels/41/4e/10/c2cf2467f71c678cfc8a6b9ac9241e5e44a01940da8fbb17fc\n",
            "Successfully built pyspark\n",
            "Installing collected packages: pyspark\n",
            "Successfully installed pyspark-3.5.0\n"
          ]
        }
      ],
      "source": [
        "!pip install pyspark"
      ]
    },
    {
      "cell_type": "markdown",
      "metadata": {
        "id": "dVNAlw2jWiWb"
      },
      "source": [
        "Importing the modules"
      ]
    },
    {
      "cell_type": "code",
      "execution_count": 6,
      "metadata": {
        "id": "gS3YIWJiW7I3"
      },
      "outputs": [],
      "source": [
        "\n",
        "from pyspark.sql import SparkSession\n",
        "from pyspark.sql.functions import count, desc , col, max, when, struct\n",
        "import matplotlib.pyplot as plt\n",
        "import pandas as pd\n",
        "import seaborn as sns"
      ]
    },
    {
      "cell_type": "markdown",
      "metadata": {
        "id": "RKuIUYLwSkNP"
      },
      "source": [
        "Creating spark session"
      ]
    },
    {
      "cell_type": "code",
      "execution_count": 7,
      "metadata": {
        "cellView": "both",
        "id": "XXSZBvRgSnCN"
      },
      "outputs": [],
      "source": [
        "spark = SparkSession.builder.appName('spark_app').getOrCreate()"
      ]
    },
    {
      "cell_type": "markdown",
      "metadata": {
        "id": "vv_SKqr8T9mT"
      },
      "source": [
        "# Task 1 : EDA on the First Dataset <a id='eda-first-dataset'></a>\n",
        "importing the *Listenings.csv* file:"
      ]
    },
    {
      "cell_type": "code",
      "execution_count": 8,
      "metadata": {
        "id": "gK22lJDRTuKY"
      },
      "outputs": [],
      "source": [
        "listening_df = spark.read.csv('/content/drive/MyDrive/dataset/listenings.csv', inferSchema=True, header=True) # direct read approach\n",
        "\n",
        "# Format & options appraoch\n",
        "# listening_df = spark.read.format('csv').option('inferSchema', True).option('header', True).load('/content/drive/MyDrive/dataset/listenings.csv')"
      ]
    },
    {
      "cell_type": "markdown",
      "metadata": {
        "id": "s1i6KVshykdn"
      },
      "source": [
        "let's check the data:"
      ]
    },
    {
      "cell_type": "code",
      "execution_count": 9,
      "metadata": {
        "colab": {
          "base_uri": "https://localhost:8080/"
        },
        "id": "5Ji0zViUyjUE",
        "outputId": "e0e3f44d-e247-4da3-8d47-f837131d4306"
      },
      "outputs": [
        {
          "output_type": "stream",
          "name": "stdout",
          "text": [
            "+-----------+-------------+--------------------+------------+--------------------+\n",
            "|    user_id|         date|               track|      artist|               album|\n",
            "+-----------+-------------+--------------------+------------+--------------------+\n",
            "|000Silenced|1299680100000|           Price Tag|    Jessie J|         Who You Are|\n",
            "|000Silenced|1299679920000|Price Tag (Acoust...|    Jessie J|           Price Tag|\n",
            "|000Silenced|1299679440000|Be Mine! (Ballad ...|       Robyn|            Be Mine!|\n",
            "|000Silenced|1299679200000|            Acapella|       Kelis|            Acapella|\n",
            "|000Silenced|1299675660000|   I'm Not Invisible|   The Tease|   I'm Not Invisible|\n",
            "|000Silenced|1297511400000|Bounce (Feat NORE...|    MSTRKRFT|         Fist of God|\n",
            "|000Silenced|1294498440000|Don't Stop The Mu...|     Rihanna|Addicted 2 Bassli...|\n",
            "|000Silenced|1292438340000|               ObZen|   Meshuggah|               ObZen|\n",
            "|000Silenced|1292437740000|   Yama's Messengers|      Gojira|The Way of All Flesh|\n",
            "|000Silenced|1292436360000|On the Brink of E...|Napalm Death|Time Waits For No...|\n",
            "+-----------+-------------+--------------------+------------+--------------------+\n",
            "only showing top 10 rows\n",
            "\n"
          ]
        }
      ],
      "source": [
        "listening_df.show(10)"
      ]
    },
    {
      "cell_type": "markdown",
      "metadata": {
        "id": "uBWcmhRSYv1_"
      },
      "source": [
        "let's see the shape of our dataframe before cleaning"
      ]
    },
    {
      "cell_type": "code",
      "execution_count": 10,
      "metadata": {
        "colab": {
          "base_uri": "https://localhost:8080/"
        },
        "id": "RXLf7ox7qRwe",
        "outputId": "35c3d951-f5f5-4d62-c091-c005ddc779ed"
      },
      "outputs": [
        {
          "output_type": "stream",
          "name": "stdout",
          "text": [
            "(14650594, 5)\n"
          ]
        }
      ],
      "source": [
        "shape = (listening_df.count(), len(listening_df.columns))\n",
        "print(shape)"
      ]
    },
    {
      "cell_type": "code",
      "execution_count": 11,
      "metadata": {
        "colab": {
          "base_uri": "https://localhost:8080/"
        },
        "id": "5Sfm8y8VoZih",
        "outputId": "a3b6edde-8637-45b6-997b-17b1507785d1"
      },
      "outputs": [
        {
          "output_type": "stream",
          "name": "stdout",
          "text": [
            "root\n",
            " |-- user_id: string (nullable = true)\n",
            " |-- date: long (nullable = true)\n",
            " |-- track: string (nullable = true)\n",
            " |-- artist: string (nullable = true)\n",
            " |-- album: string (nullable = true)\n",
            "\n"
          ]
        }
      ],
      "source": [
        "# check the schema\n",
        "listening_df.printSchema()"
      ]
    },
    {
      "cell_type": "code",
      "execution_count": 12,
      "metadata": {
        "colab": {
          "base_uri": "https://localhost:8080/"
        },
        "id": "tJMVihLTpS-a",
        "outputId": "a5037038-6bf3-4d8d-f662-2adee3deb5d4"
      },
      "outputs": [
        {
          "output_type": "stream",
          "name": "stdout",
          "text": [
            "+-------+----+-----+------+------+\n",
            "|user_id|date|track|artist| album|\n",
            "+-------+----+-----+------+------+\n",
            "|      0|   0|  230|   435|891137|\n",
            "+-------+----+-----+------+------+\n",
            "\n"
          ]
        }
      ],
      "source": [
        "# check if there are null values\n",
        "listening_df.select([count(when(col(c).isNull(), c)).alias(c) for c in listening_df.columns]).show()"
      ]
    },
    {
      "cell_type": "markdown",
      "metadata": {
        "id": "HS6wd2d_woNC"
      },
      "source": [
        "let's delete useless columns:"
      ]
    },
    {
      "cell_type": "code",
      "execution_count": 13,
      "metadata": {
        "id": "pIMzBAglwtNP"
      },
      "outputs": [],
      "source": [
        "listening_df = listening_df.drop('date')"
      ]
    },
    {
      "cell_type": "markdown",
      "metadata": {
        "id": "MwpJJeWa4qmn"
      },
      "source": [
        "drop the null values:"
      ]
    },
    {
      "cell_type": "code",
      "execution_count": 14,
      "metadata": {
        "id": "Botf6-Vb4uqs"
      },
      "outputs": [],
      "source": [
        "listening_df = listening_df.na.drop()"
      ]
    },
    {
      "cell_type": "markdown",
      "metadata": {
        "id": "tTN6jr3K4xkF"
      },
      "source": [
        "let's check the dataset again:"
      ]
    },
    {
      "cell_type": "code",
      "execution_count": 15,
      "metadata": {
        "colab": {
          "base_uri": "https://localhost:8080/"
        },
        "id": "JDp_rdEY40u3",
        "outputId": "37c60d80-3af6-420e-9600-296692f18d22"
      },
      "outputs": [
        {
          "output_type": "stream",
          "name": "stdout",
          "text": [
            "+-----------+--------------------+---------------+--------------------+\n",
            "|    user_id|               track|         artist|               album|\n",
            "+-----------+--------------------+---------------+--------------------+\n",
            "|000Silenced|           Price Tag|       Jessie J|         Who You Are|\n",
            "|000Silenced|Price Tag (Acoust...|       Jessie J|           Price Tag|\n",
            "|000Silenced|Be Mine! (Ballad ...|          Robyn|            Be Mine!|\n",
            "|000Silenced|            Acapella|          Kelis|            Acapella|\n",
            "|000Silenced|   I'm Not Invisible|      The Tease|   I'm Not Invisible|\n",
            "|000Silenced|Bounce (Feat NORE...|       MSTRKRFT|         Fist of God|\n",
            "|000Silenced|Don't Stop The Mu...|        Rihanna|Addicted 2 Bassli...|\n",
            "|000Silenced|               ObZen|      Meshuggah|               ObZen|\n",
            "|000Silenced|   Yama's Messengers|         Gojira|The Way of All Flesh|\n",
            "|000Silenced|On the Brink of E...|   Napalm Death|Time Waits For No...|\n",
            "|000Silenced|On the Brink of E...|   Napalm Death|Time Waits For No...|\n",
            "|000Silenced|        In Deference|   Napalm Death|      Smear Campaign|\n",
            "|000Silenced|      Post(?)organic|    Decapitated|Organic Hallucinosis|\n",
            "|000Silenced|        Mind Feeders|   Dom & Roland| No Strings Attached|\n",
            "|000Silenced|Necrosadistic War...|Cannibal Corpse|                Kill|\n",
            "|000Silenced|     Dance All Night|   Dom & Roland|          Chronology|\n",
            "|000Silenced|          Late Night|   Dom & Roland|          Chronology|\n",
            "|000Silenced|          Freak Seen|   Dom & Roland|          Chronology|\n",
            "|000Silenced|Paradrenasite (Hi...|   Dom & Roland|          Chronology|\n",
            "|000Silenced|               Rhino|   Dom & Roland|          Chronology|\n",
            "+-----------+--------------------+---------------+--------------------+\n",
            "only showing top 20 rows\n",
            "\n"
          ]
        }
      ],
      "source": [
        "listening_df.show()"
      ]
    },
    {
      "cell_type": "markdown",
      "metadata": {
        "id": "JMkQsQt2xSb5"
      },
      "source": [
        "let's see the shape of our dataframe after cleaning"
      ]
    },
    {
      "cell_type": "code",
      "execution_count": 16,
      "metadata": {
        "colab": {
          "base_uri": "https://localhost:8080/"
        },
        "id": "6POkV3YFmh6b",
        "outputId": "cfa7a382-bc29-461d-d205-5372c00d5593"
      },
      "outputs": [
        {
          "output_type": "stream",
          "name": "stdout",
          "text": [
            "(13758905, 4)\n"
          ]
        }
      ],
      "source": [
        "shape = (listening_df.count(), len(listening_df.columns))\n",
        "print(shape)"
      ]
    },
    {
      "cell_type": "markdown",
      "metadata": {
        "id": "XMD0DhFl2FEJ"
      },
      "source": [
        "# Task 2: Query the data <a id='query-data'></a>\n",
        "\n",
        "**Query #0:**\n",
        "select two columns: track and artist"
      ]
    },
    {
      "cell_type": "code",
      "execution_count": 17,
      "metadata": {
        "colab": {
          "base_uri": "https://localhost:8080/"
        },
        "id": "FZTdA5wn2TZy",
        "outputId": "884516e2-953f-4c27-9597-c650e5dcc0fa"
      },
      "outputs": [
        {
          "output_type": "stream",
          "name": "stdout",
          "text": [
            "+---------------+--------------------------------------------+\n",
            "|artist         |track                                       |\n",
            "+---------------+--------------------------------------------+\n",
            "|Jessie J       |Price Tag                                   |\n",
            "|Jessie J       |Price Tag (Acoustic Version)                |\n",
            "|Robyn          |Be Mine! (Ballad Version)                   |\n",
            "|Kelis          |Acapella                                    |\n",
            "|The Tease      |I'm Not Invisible                           |\n",
            "|MSTRKRFT       |Bounce (Feat NORE + ISIS)                   |\n",
            "|Rihanna        |Don't Stop The Music (Wideboys Bassline Mix)|\n",
            "|Meshuggah      |ObZen                                       |\n",
            "|Gojira         |Yama's Messengers                           |\n",
            "|Napalm Death   |On the Brink of Extinction                  |\n",
            "|Napalm Death   |On the Brink of Extinction                  |\n",
            "|Napalm Death   |In Deference                                |\n",
            "|Decapitated    |Post(?)organic                              |\n",
            "|Dom & Roland   |Mind Feeders                                |\n",
            "|Cannibal Corpse|Necrosadistic Warning                       |\n",
            "|Dom & Roland   |Dance All Night                             |\n",
            "|Dom & Roland   |Late Night                                  |\n",
            "|Dom & Roland   |Freak Seen                                  |\n",
            "|Dom & Roland   |Paradrenasite (Hive remix)                  |\n",
            "|Dom & Roland   |Rhino                                       |\n",
            "+---------------+--------------------------------------------+\n",
            "only showing top 20 rows\n",
            "\n"
          ]
        }
      ],
      "source": [
        "q0 = listening_df.select('artist', 'track')\n",
        "q0.show(truncate=False)"
      ]
    },
    {
      "cell_type": "markdown",
      "metadata": {
        "id": "QRcgXOFs2hjw"
      },
      "source": [
        "**Query #1**:\n",
        "\n",
        "Let's find all of the records of those users who have listened to ***Rihanna***"
      ]
    },
    {
      "cell_type": "code",
      "execution_count": 18,
      "metadata": {
        "colab": {
          "base_uri": "https://localhost:8080/"
        },
        "id": "ICyiTMVnppLw",
        "outputId": "e6e994b3-e71a-4112-927d-39bdfa6599af"
      },
      "outputs": [
        {
          "output_type": "stream",
          "name": "stdout",
          "text": [
            "+-----------+--------------------------------------------+-------+-------------------------------+\n",
            "|user_id    |track                                       |artist |album                          |\n",
            "+-----------+--------------------------------------------+-------+-------------------------------+\n",
            "|000Silenced|Don't Stop The Music (Wideboys Bassline Mix)|Rihanna|Addicted 2 Bassline CD1        |\n",
            "|000Silenced|Disturbia                                   |Rihanna|Good Girl Gone Bad: The Remixes|\n",
            "|00williamsl|Hatin On The Club                           |Rihanna|Random                         |\n",
            "|00williamsl|Hatin On The Club                           |Rihanna|Random                         |\n",
            "|00williamsl|Complicated                                 |Rihanna|Loud                           |\n",
            "|00williamsl|What's My Name (feat Drake)                 |Rihanna|Loud                           |\n",
            "|00williamsl|Kanye West feat Rihanna - All Of The Lights |Rihanna|Loud                           |\n",
            "|0502008    |Only Girl (In the World)                    |Rihanna|Loud                           |\n",
            "|0rdos      |Pon De Replay (Remix)                       |Rihanna|Music of the Sun               |\n",
            "|0rdos      |Now I Know                                  |Rihanna|Music of the Sun               |\n",
            "|0rdos      |There's a Thug in My Life                   |Rihanna|Music of the Sun               |\n",
            "|0rdos      |Rush                                        |Rihanna|Music of the Sun               |\n",
            "|0rdos      |Let Me                                      |Rihanna|Music of the Sun               |\n",
            "|0rdos      |Music of the Sun                            |Rihanna|Music of the Sun               |\n",
            "|0rdos      |Willing to Wait                             |Rihanna|Music of the Sun               |\n",
            "|0rdos      |The Last Time                               |Rihanna|Music of the Sun               |\n",
            "|0rdos      |If It's Lovin' That You Want                |Rihanna|Music of the Sun               |\n",
            "|0rdos      |Here I Go Again                             |Rihanna|Music of the Sun               |\n",
            "|0rdos      |Pon de Replay                               |Rihanna|Music of the Sun               |\n",
            "|0rdos      |Cry                                         |Rihanna|Good Girl Gone Bad             |\n",
            "+-----------+--------------------------------------------+-------+-------------------------------+\n",
            "only showing top 20 rows\n",
            "\n"
          ]
        }
      ],
      "source": [
        "q1 = listening_df.filter(col('artist') == 'Rihanna')\n",
        "q1.show(truncate=False)"
      ]
    },
    {
      "cell_type": "markdown",
      "metadata": {
        "id": "I0IafeyvFU9O"
      },
      "source": [
        "**Query #2:**\n",
        "\n",
        "Let's find top 10 users who are fan of ***Rihanna***"
      ]
    },
    {
      "cell_type": "code",
      "execution_count": 19,
      "metadata": {
        "colab": {
          "base_uri": "https://localhost:8080/"
        },
        "id": "3-hM9kMm7JmI",
        "outputId": "d69ba8b3-1a4c-4abb-acc8-a9912261d662"
      },
      "outputs": [
        {
          "output_type": "stream",
          "name": "stdout",
          "text": [
            "+---------------+-----+\n",
            "|        user_id|count|\n",
            "+---------------+-----+\n",
            "|        thiessu|  179|\n",
            "|    eyessetkyle|  166|\n",
            "|           adxx|  164|\n",
            "|missnumberthree|  156|\n",
            "|helloiamnatalie|  128|\n",
            "|          nmjnb|  124|\n",
            "|        AndyyyA|  123|\n",
            "|     BIGBANG186|  121|\n",
            "|     mixedvibes|  120|\n",
            "|       AndyKitt|  115|\n",
            "+---------------+-----+\n",
            "\n"
          ]
        }
      ],
      "source": [
        "q2 = listening_df.select('user_id').filter(col('artist') == 'Rihanna') \\\n",
        "     .groupby('user_id').agg(count('user_id').alias('count')) \\\n",
        "     .orderBy(desc('count')).limit(10)\n",
        "\n",
        "q2.show()"
      ]
    },
    {
      "cell_type": "markdown",
      "metadata": {
        "id": "hgAAl6aAcp41"
      },
      "source": [
        "**Query #3:**\n",
        "\n",
        "find top 10 famous tracks"
      ]
    },
    {
      "cell_type": "code",
      "execution_count": 20,
      "metadata": {
        "colab": {
          "base_uri": "https://localhost:8080/"
        },
        "id": "qlh3IUzfJ3_I",
        "outputId": "7e7857a5-9165-4a80-fb6b-8ffbcc307afa"
      },
      "outputs": [
        {
          "output_type": "stream",
          "name": "stdout",
          "text": [
            "+--------------+----------------+-----+\n",
            "|        artist|           track|count|\n",
            "+--------------+----------------+-----+\n",
            "| Justin Bieber|           Sorry| 3381|\n",
            "|Arctic Monkeys|Do I Wanna Know?| 2865|\n",
            "|      Bon Iver|     Skinny Love| 2836|\n",
            "|          Zayn|      PILLOWTALK| 2701|\n",
            "|   The Killers|   Mr Brightside| 2690|\n",
            "|       Rihanna|            Work| 2646|\n",
            "|      Bastille|         Pompeii| 2606|\n",
            "|Mumford & Sons| Little Lion Man| 2520|\n",
            "|Mumford & Sons|        The Cave| 2485|\n",
            "| Justin Bieber|   Love Yourself| 2481|\n",
            "+--------------+----------------+-----+\n",
            "\n"
          ]
        }
      ],
      "source": [
        "q3 = (listening_df\n",
        "      .groupby('artist', 'track')\n",
        "      .agg(count('*').alias('count'))\n",
        "      .orderBy(desc('count'))\n",
        "      .limit(10))\n",
        "\n",
        "q3.show()"
      ]
    },
    {
      "cell_type": "markdown",
      "metadata": {
        "id": "HqhPhQvjeXt0"
      },
      "source": [
        "**Query #4:**\n",
        "\n",
        "find top 10 famous tracks of ***Rihanna***"
      ]
    },
    {
      "cell_type": "code",
      "execution_count": 21,
      "metadata": {
        "colab": {
          "base_uri": "https://localhost:8080/"
        },
        "id": "D_npmdh1ec8y",
        "outputId": "b9d02ec3-c38c-4f8a-b7fd-367ba3bbd14a"
      },
      "outputs": [
        {
          "output_type": "stream",
          "name": "stdout",
          "text": [
            "+-------+--------------------+-----+\n",
            "| artist|               track|count|\n",
            "+-------+--------------------+-----+\n",
            "|Rihanna|                Work| 2646|\n",
            "|Rihanna|Only Girl (In the...| 1749|\n",
            "|Rihanna|We Found Love (fe...| 1575|\n",
            "|Rihanna|                 S&M| 1307|\n",
            "|Rihanna|            Rude Boy| 1303|\n",
            "|Rihanna|            Diamonds| 1224|\n",
            "|Rihanna|      Kiss it Better|  945|\n",
            "|Rihanna| Where Have You Been|  844|\n",
            "|Rihanna|Cheers (Drink to ...|  697|\n",
            "|Rihanna|           Needed Me|  679|\n",
            "+-------+--------------------+-----+\n",
            "\n"
          ]
        }
      ],
      "source": [
        "q4 = (listening_df\n",
        "      .filter(col('artist') == 'Rihanna')\n",
        "      .groupby('artist', 'track')\n",
        "      .agg(count('*').alias('count'))\n",
        "      .orderBy(desc('count'))\n",
        "      .limit(10))\n",
        "\n",
        "q4.show()"
      ]
    },
    {
      "cell_type": "markdown",
      "metadata": {
        "id": "E6pgcH0p1ZXo"
      },
      "source": [
        "**Query #5:**\n",
        "\n",
        "find top 10 famous albums"
      ]
    },
    {
      "cell_type": "code",
      "execution_count": 22,
      "metadata": {
        "colab": {
          "base_uri": "https://localhost:8080/"
        },
        "id": "c5YHm6yKenE7",
        "outputId": "895d9671-7732-417a-e462-ccf500e50a1f"
      },
      "outputs": [
        {
          "output_type": "stream",
          "name": "stdout",
          "text": [
            "+----------------+--------------------+-----+\n",
            "|          artist|               album|count|\n",
            "+----------------+--------------------+-----+\n",
            "|   Henry Rollins|      Big Ugly Mouth|    1|\n",
            "|           Baby!|         Mitch Ryder|    1|\n",
            "|     Donna Fargo|         Shame On Me|    1|\n",
            "|    Oscar D'León| Los Mejores Oscares|    1|\n",
            "|             ak9|                DNCE|    1|\n",
            "|  Cobra Starship|#1Nite (One Night...|    1|\n",
            "|             DMX|     #MonsterMondays|    1|\n",
            "|       The Whigs|Give 'em All a Bi...|    1|\n",
            "|The Decemberists|Uncut 201502 Doin...|    1|\n",
            "|     Jethro Tull|            Nightcap|    1|\n",
            "+----------------+--------------------+-----+\n",
            "\n"
          ]
        }
      ],
      "source": [
        "q5 = (listening_df\n",
        "      .groupby('artist', 'album')\n",
        "      .agg(count('*').alias('count'))\n",
        "      .orderBy(col('count'))\n",
        "      .limit(10))\n",
        "\n",
        "q5.show()"
      ]
    },
    {
      "cell_type": "markdown",
      "metadata": {
        "id": "YXev8HQ57bdq"
      },
      "source": [
        "# Task 3 : EDA on another dataset, query & visulization <a id='eda-second-dataset'></a>\n",
        "importing the ***genre.csv*** file:"
      ]
    },
    {
      "cell_type": "code",
      "execution_count": 23,
      "metadata": {
        "id": "tpXSrYfu14PB"
      },
      "outputs": [],
      "source": [
        "genre_df = spark.read.format('csv').option('inferSchema', True).option('header', True).load('/content/drive/MyDrive/dataset/genre.csv')"
      ]
    },
    {
      "cell_type": "markdown",
      "metadata": {
        "id": "aCHSo36W9RcP"
      },
      "source": [
        "let's check the data"
      ]
    },
    {
      "cell_type": "code",
      "execution_count": 24,
      "metadata": {
        "colab": {
          "base_uri": "https://localhost:8080/"
        },
        "id": "LJu4Ouz89O6_",
        "outputId": "30ac1d09-b90a-4db4-8424-09d4444cd8b9"
      },
      "outputs": [
        {
          "output_type": "stream",
          "name": "stdout",
          "text": [
            "+--------------------+-----+\n",
            "|              artist|genre|\n",
            "+--------------------+-----+\n",
            "|                Muse| rock|\n",
            "|             Nirvana| rock|\n",
            "|            Bon Jovi| rock|\n",
            "|          The Police| rock|\n",
            "|                Kiss| rock|\n",
            "|       Guns N' Roses| rock|\n",
            "|         Rusted Root| rock|\n",
            "|Katrina and the W...|  pop|\n",
            "|         The Beatles| rock|\n",
            "|        Hall & Oates|  pop|\n",
            "|        Otis Redding| soul|\n",
            "|         Marvin Gaye| soul|\n",
            "|     The Cranberries| rock|\n",
            "|            Survivor| rock|\n",
            "|       Fleetwood Mac|blues|\n",
            "|           Radiohead| rock|\n",
            "|                Toto| rock|\n",
            "|                  U2| rock|\n",
            "|Creedence Clearwa...| rock|\n",
            "|                 REM| rock|\n",
            "+--------------------+-----+\n",
            "only showing top 20 rows\n",
            "\n"
          ]
        }
      ],
      "source": [
        "genre_df.show()"
      ]
    },
    {
      "cell_type": "markdown",
      "metadata": {
        "id": "qRyvsSVMYv2N"
      },
      "source": [
        "check the top 10 genres"
      ]
    },
    {
      "cell_type": "code",
      "execution_count": 25,
      "metadata": {
        "colab": {
          "base_uri": "https://localhost:8080/"
        },
        "id": "KnWjCSOUvOig",
        "outputId": "038cb4b2-6f1e-4c2c-976f-b4d3f2804b87"
      },
      "outputs": [
        {
          "output_type": "stream",
          "name": "stdout",
          "text": [
            "+----------+-----+\n",
            "|     genre|count|\n",
            "+----------+-----+\n",
            "|      rock| 9066|\n",
            "|       pop| 6960|\n",
            "|electronic| 4410|\n",
            "|      jazz| 4400|\n",
            "|   hip hop| 4288|\n",
            "|     house| 3310|\n",
            "|      folk| 3217|\n",
            "|     dance| 2894|\n",
            "|      punk| 2661|\n",
            "|soundtrack| 2360|\n",
            "+----------+-----+\n",
            "\n"
          ]
        }
      ],
      "source": [
        "top_genres = (genre_df.groupBy('genre')\n",
        "              .agg(count('genre').alias('count'))\n",
        "              .orderBy('count', ascending=False)\n",
        "              .limit(10))\n",
        "top_genres.show()"
      ]
    },
    {
      "cell_type": "markdown",
      "metadata": {
        "id": "7aLXb6LBYv2N"
      },
      "source": [
        "Visualize the top 10 genres"
      ]
    },
    {
      "cell_type": "code",
      "execution_count": 26,
      "metadata": {
        "colab": {
          "base_uri": "https://localhost:8080/",
          "height": 564
        },
        "id": "4rRHnW7FwNFP",
        "outputId": "ae5a7dda-add4-4d74-aa35-931fca86a4e0"
      },
      "outputs": [
        {
          "output_type": "display_data",
          "data": {
            "text/plain": [
              "<Figure size 1000x600 with 1 Axes>"
            ],
            "image/png": "[encoded data removed]"
          },
          "metadata": {}
        }
      ],
      "source": [
        "# Convert to Pandas DataFrame\n",
        "top_genres_pd = top_genres.toPandas()\n",
        "\n",
        "# Plotting\n",
        "plt.figure(figsize=(10, 6))\n",
        "sns.barplot(x='count', y='genre', data=top_genres_pd, palette='viridis')\n",
        "plt.title('Top 10 Genres')\n",
        "plt.xlabel('Count')\n",
        "plt.ylabel('Genre')\n",
        "plt.show()\n"
      ]
    },
    {
      "cell_type": "code",
      "execution_count": 27,
      "metadata": {
        "colab": {
          "base_uri": "https://localhost:8080/"
        },
        "id": "B8HOgJlafzSt",
        "outputId": "6251bac7-6f50-41fc-bee9-973e76f6060e"
      },
      "outputs": [
        {
          "output_type": "stream",
          "name": "stdout",
          "text": [
            "+-----------+--------------------+---------------+--------------------+\n",
            "|    user_id|               track|         artist|               album|\n",
            "+-----------+--------------------+---------------+--------------------+\n",
            "|000Silenced|           Price Tag|       Jessie J|         Who You Are|\n",
            "|000Silenced|Price Tag (Acoust...|       Jessie J|           Price Tag|\n",
            "|000Silenced|Be Mine! (Ballad ...|          Robyn|            Be Mine!|\n",
            "|000Silenced|            Acapella|          Kelis|            Acapella|\n",
            "|000Silenced|   I'm Not Invisible|      The Tease|   I'm Not Invisible|\n",
            "|000Silenced|Bounce (Feat NORE...|       MSTRKRFT|         Fist of God|\n",
            "|000Silenced|Don't Stop The Mu...|        Rihanna|Addicted 2 Bassli...|\n",
            "|000Silenced|               ObZen|      Meshuggah|               ObZen|\n",
            "|000Silenced|   Yama's Messengers|         Gojira|The Way of All Flesh|\n",
            "|000Silenced|On the Brink of E...|   Napalm Death|Time Waits For No...|\n",
            "|000Silenced|On the Brink of E...|   Napalm Death|Time Waits For No...|\n",
            "|000Silenced|        In Deference|   Napalm Death|      Smear Campaign|\n",
            "|000Silenced|      Post(?)organic|    Decapitated|Organic Hallucinosis|\n",
            "|000Silenced|        Mind Feeders|   Dom & Roland| No Strings Attached|\n",
            "|000Silenced|Necrosadistic War...|Cannibal Corpse|                Kill|\n",
            "|000Silenced|     Dance All Night|   Dom & Roland|          Chronology|\n",
            "|000Silenced|          Late Night|   Dom & Roland|          Chronology|\n",
            "|000Silenced|          Freak Seen|   Dom & Roland|          Chronology|\n",
            "|000Silenced|Paradrenasite (Hi...|   Dom & Roland|          Chronology|\n",
            "|000Silenced|               Rhino|   Dom & Roland|          Chronology|\n",
            "+-----------+--------------------+---------------+--------------------+\n",
            "only showing top 20 rows\n",
            "\n"
          ]
        }
      ],
      "source": [
        "listening_df.show()"
      ]
    },
    {
      "cell_type": "markdown",
      "metadata": {
        "id": "YHyPzL4P1TSC"
      },
      "source": [
        "Let's inner join these two data frames"
      ]
    },
    {
      "cell_type": "code",
      "execution_count": 28,
      "metadata": {
        "colab": {
          "base_uri": "https://localhost:8080/"
        },
        "id": "FTjl-MF2wksE",
        "outputId": "9cc426b4-5a38-4f08-9fe4-e21757af25e1"
      },
      "outputs": [
        {
          "output_type": "stream",
          "name": "stdout",
          "text": [
            "+------------+-----------+--------------------+--------------------+--------------------+\n",
            "|      artist|    user_id|               track|               album|               genre|\n",
            "+------------+-----------+--------------------+--------------------+--------------------+\n",
            "|    Jessie J|000Silenced|           Price Tag|         Who You Are|                 pop|\n",
            "|    Jessie J|000Silenced|           Price Tag|         Who You Are| Ariana Grande & ...|\n",
            "|    Jessie J|000Silenced|           Price Tag|         Who You Are| Jhene Aiko & Rixton|\n",
            "|    Jessie J|000Silenced|           Price Tag|         Who You Are| Nicki Minaj & Ar...|\n",
            "|    Jessie J|000Silenced|Price Tag (Acoust...|           Price Tag|                 pop|\n",
            "|    Jessie J|000Silenced|Price Tag (Acoust...|           Price Tag| Ariana Grande & ...|\n",
            "|    Jessie J|000Silenced|Price Tag (Acoust...|           Price Tag| Jhene Aiko & Rixton|\n",
            "|    Jessie J|000Silenced|Price Tag (Acoust...|           Price Tag| Nicki Minaj & Ar...|\n",
            "|       Robyn|000Silenced|Be Mine! (Ballad ...|            Be Mine!|                 pop|\n",
            "|       Kelis|000Silenced|            Acapella|            Acapella|                 pop|\n",
            "|   The Tease|000Silenced|   I'm Not Invisible|   I'm Not Invisible|             hip hop|\n",
            "|    MSTRKRFT|000Silenced|Bounce (Feat NORE...|         Fist of God|          electronic|\n",
            "|     Rihanna|000Silenced|Don't Stop The Mu...|Addicted 2 Bassli...| Kanye West & Pau...|\n",
            "|     Rihanna|000Silenced|Don't Stop The Mu...|Addicted 2 Bassli...| Paul McCartney &...|\n",
            "|     Rihanna|000Silenced|Don't Stop The Mu...|Addicted 2 Bassli...|                 pop|\n",
            "|     Rihanna|000Silenced|Don't Stop The Mu...|Addicted 2 Bassli...|          Kanye West|\n",
            "|     Rihanna|000Silenced|Don't Stop The Mu...|Addicted 2 Bassli...|                 SZA|\n",
            "|   Meshuggah|000Silenced|               ObZen|               ObZen|               metal|\n",
            "|      Gojira|000Silenced|   Yama's Messengers|The Way of All Flesh|               metal|\n",
            "|Napalm Death|000Silenced|On the Brink of E...|Time Waits For No...|           grindcore|\n",
            "+------------+-----------+--------------------+--------------------+--------------------+\n",
            "only showing top 20 rows\n",
            "\n"
          ]
        }
      ],
      "source": [
        "# Remove all duplicate rows in the genre dataset\n",
        "df_cleaned = genre_df.dropDuplicates()\n",
        "\n",
        "# Join the two datasets\n",
        "data = listening_df.join(df_cleaned, ['artist'], 'inner')\n",
        "data.show()\n",
        "\n",
        "# After joining the two datasets, we can see that there are some abnormal values in the genre column.\n",
        "# After checkinh the orighinal dataset, we can find that the genre column contains some values that are not genres.\n",
        "# This is because the source dataset is not clean, where the name of artists are also included in the genre column.\n",
        "# Considering that the number of these abnormal values is large, futher cleaning is needed."
      ]
    },
    {
      "cell_type": "markdown",
      "metadata": {
        "id": "yM_f5qILBNeI"
      },
      "source": [
        "**Query #6**\n",
        "\n",
        "find top 10 users who are fan of ***pop*** music"
      ]
    },
    {
      "cell_type": "code",
      "execution_count": 29,
      "metadata": {
        "colab": {
          "base_uri": "https://localhost:8080/"
        },
        "id": "dognQVlxBi2n",
        "outputId": "b7cf27b1-406f-4ab5-d97e-780d75a8cc29"
      },
      "outputs": [
        {
          "output_type": "stream",
          "name": "stdout",
          "text": [
            "+---------------+-----+\n",
            "|        user_id|count|\n",
            "+---------------+-----+\n",
            "|      momousagi|  400|\n",
            "|          mrpsb|  400|\n",
            "|   BlueKnockOut|  378|\n",
            "|  incultojurgis|  374|\n",
            "| ElektricOrchid|  370|\n",
            "|foreign_fanatic|  350|\n",
            "|   Kevin_Soutar|  346|\n",
            "|  landrover2171|  301|\n",
            "|      blessbabe|  286|\n",
            "|        DP_Sage|  274|\n",
            "+---------------+-----+\n",
            "\n"
          ]
        }
      ],
      "source": [
        "q6 = (data.filter(col('genre') == 'pop')\n",
        "      .groupBy('user_id')\n",
        "      .agg(count('*').alias('count'))\n",
        "      .orderBy(desc('count'))\n",
        "      .limit(10))\n",
        "\n",
        "q6.show()"
      ]
    },
    {
      "cell_type": "markdown",
      "metadata": {
        "id": "63quzy7t-zb7"
      },
      "source": [
        "**Query #7**\n",
        "\n",
        "find top 10 famous genres"
      ]
    },
    {
      "cell_type": "code",
      "execution_count": 30,
      "metadata": {
        "colab": {
          "base_uri": "https://localhost:8080/"
        },
        "id": "aDFcoPPk-Rhf",
        "outputId": "b4a65338-9df4-45e5-aeb1-0a34c4b5be5f"
      },
      "outputs": [
        {
          "output_type": "stream",
          "name": "stdout",
          "text": [
            "+----------+-------+\n",
            "|     genre|  count|\n",
            "+----------+-------+\n",
            "|      rock|2668250|\n",
            "|       pop|1527984|\n",
            "|   hip hop| 532360|\n",
            "|electronic| 523615|\n",
            "|      folk| 436123|\n",
            "|indie rock| 431439|\n",
            "|      punk| 380901|\n",
            "|       r&b| 215782|\n",
            "|     metal| 208107|\n",
            "|     indie| 206703|\n",
            "+----------+-------+\n",
            "\n"
          ]
        }
      ],
      "source": [
        "q7 = (data.groupBy('genre')\n",
        "      .agg(count('*').alias('count'))\n",
        "      .orderBy(desc('count'))\n",
        "      .limit(10))\n",
        "\n",
        "q7.show()"
      ]
    },
    {
      "cell_type": "markdown",
      "metadata": {
        "id": "hrZOAWVgLMZo"
      },
      "source": [
        "# Task 4: Join the two datasets, query & visualization <a id='eda-joined-dataset'></a>\n",
        "**Query #8**\n",
        "\n",
        "find out each user favourite genre"
      ]
    },
    {
      "cell_type": "code",
      "execution_count": 31,
      "metadata": {
        "colab": {
          "base_uri": "https://localhost:8080/"
        },
        "id": "H3AWxlkbLvCg",
        "outputId": "a0632629-9b20-4974-c5e4-0e1296cc7dc3"
      },
      "outputs": [
        {
          "output_type": "stream",
          "name": "stdout",
          "text": [
            "+-------+--------------------+-----+\n",
            "|user_id|               genre|count|\n",
            "+-------+--------------------+-----+\n",
            "| --Seph| Boston Pops Orch...|    1|\n",
            "| --Seph|               Bjorn|    8|\n",
            "| --Seph|                 pop|    9|\n",
            "| --Seph| brazilian pop music|    1|\n",
            "| --Seph|          Nils Frahm|    1|\n",
            "| --Seph| Snoop Dogg & Dev...|    4|\n",
            "| --Seph|               dance|    1|\n",
            "| --Seph|        instrumental|    1|\n",
            "| --Seph|  progressive trance|    1|\n",
            "| --Seph|   Vladimir Spivakov|    1|\n",
            "| --Seph|          Thom Yorke|    2|\n",
            "| --Seph|               samba|    2|\n",
            "| --Seph|               Ruben|    4|\n",
            "| --Seph|             ambient|    6|\n",
            "| --Seph|           classical|   28|\n",
            "| --Seph| Sara Mingardo & ...|    1|\n",
            "| --Seph|               indie|    3|\n",
            "| --Seph|             baroque|    1|\n",
            "| --Seph|         heavy metal|    1|\n",
            "| --Seph|     Hilko Schomerus|    1|\n",
            "+-------+--------------------+-----+\n",
            "only showing top 20 rows\n",
            "\n"
          ]
        }
      ],
      "source": [
        "# To find out each user's favorite genre, we need to count the number of times each user listens to each genre first.\n",
        "# Counting Genres per User\n",
        "q8_1 = (data.groupBy('user_id', 'genre')\n",
        "        .agg(count('*').alias('count'))\n",
        "        .orderBy('user_id'))\n",
        "\n",
        "q8_1.show()"
      ]
    },
    {
      "cell_type": "code",
      "execution_count": 32,
      "metadata": {
        "colab": {
          "base_uri": "https://localhost:8080/"
        },
        "id": "Soy2bMxQN-Ub",
        "outputId": "1d344e20-7412-4d64-cc9f-10709be8f6a9"
      },
      "outputs": [
        {
          "output_type": "stream",
          "name": "stdout",
          "text": [
            "+---------------+-----------+\n",
            "|        user_id|      genre|\n",
            "+---------------+-----------+\n",
            "|      --Shinn--|       rock|\n",
            "|       --ollz--|       rock|\n",
            "|     -Amnesiac-|      metal|\n",
            "|         -Bish-|       rock|\n",
            "|        -Danni-|       rock|\n",
            "|          -DeWp|    hip hop|\n",
            "|      -Faction-|       rock|\n",
            "|-February-Star-|       rock|\n",
            "|        -Gemma-|british pop|\n",
            "|   -Gingergirl-|        pop|\n",
            "|        -Hazel-|       punk|\n",
            "|        -Heiko-|        pop|\n",
            "|         -Katie|      lo-fi|\n",
            "|      -Krystal-|       rock|\n",
            "|         -Mark-| indie rock|\n",
            "|       -Mullet-|  metalcore|\n",
            "|          -Robs|       rock|\n",
            "| -SleepingStar-|black metal|\n",
            "|      -Stifler-|       rock|\n",
            "|  -Toxic-Waste-|  aggrotech|\n",
            "+---------------+-----------+\n",
            "only showing top 20 rows\n",
            "\n"
          ]
        }
      ],
      "source": [
        "#Finding Most Frequent Genre per User\n",
        "q8_2 = (q8_1.groupBy('user_id')\n",
        "        .agg(max(struct(col('count'), col('genre'))).alias('max'))\n",
        "        .select(col('user_id'), col('max.genre')))\n",
        "\n",
        "q8_2.show()"
      ]
    },
    {
      "cell_type": "markdown",
      "metadata": {
        "id": "6oIyhOHkCDuv"
      },
      "source": [
        "**Query #9**\n",
        "\n",
        "find out how many pop,rock,metal and hip hop singers we have and then visulize it using bar chart"
      ]
    },
    {
      "cell_type": "code",
      "execution_count": 33,
      "metadata": {
        "colab": {
          "base_uri": "https://localhost:8080/"
        },
        "id": "7_lEjNKVCDJv",
        "outputId": "962f2781-81c5-4186-8eba-f9ab50ac661b"
      },
      "outputs": [
        {
          "output_type": "stream",
          "name": "stdout",
          "text": [
            "+-------+-----+\n",
            "|  genre|count|\n",
            "+-------+-----+\n",
            "|    pop| 6960|\n",
            "|hip hop| 4288|\n",
            "|  metal| 1854|\n",
            "|   rock| 9066|\n",
            "+-------+-----+\n",
            "\n"
          ]
        }
      ],
      "source": [
        "q9 = (genre_df.select('genre')\n",
        "      .filter(col('genre').isin('pop', 'rock', 'metal', 'hip hop'))\n",
        "      .groupby('genre')\n",
        "      .agg(count('genre').alias('count')))\n",
        "q9.show()"
      ]
    },
    {
      "cell_type": "markdown",
      "metadata": {
        "id": "h0h2SSk8InMH"
      },
      "source": [
        "Now, let's visualize the results using ***matplotlib***"
      ]
    },
    {
      "cell_type": "code",
      "execution_count": 34,
      "metadata": {
        "id": "J-n8gOC0Imj5"
      },
      "outputs": [],
      "source": [
        "q9_list = q9.collect()"
      ]
    },
    {
      "cell_type": "code",
      "execution_count": 35,
      "metadata": {
        "id": "CMigHLrEQgKv"
      },
      "outputs": [],
      "source": [
        "labels = [row['genre'] for row in q9_list]\n",
        "counts = [row['count'] for row in q9_list]"
      ]
    },
    {
      "cell_type": "code",
      "execution_count": 36,
      "metadata": {
        "colab": {
          "base_uri": "https://localhost:8080/"
        },
        "id": "FYLE4Mbu_Lbu",
        "outputId": "95fb67a8-6d54-4b76-a283-0124a3065321"
      },
      "outputs": [
        {
          "output_type": "stream",
          "name": "stdout",
          "text": [
            "['pop', 'hip hop', 'metal', 'rock']\n",
            "[6960, 4288, 1854, 9066]\n"
          ]
        }
      ],
      "source": [
        "print(labels)\n",
        "print(counts)"
      ]
    },
    {
      "cell_type": "markdown",
      "metadata": {
        "id": "1iDrvEwYQ4AE"
      },
      "source": [
        "now lets visualize these two lists using a bar chart"
      ]
    },
    {
      "cell_type": "code",
      "execution_count": 37,
      "metadata": {
        "colab": {
          "base_uri": "https://localhost:8080/",
          "height": 597
        },
        "id": "a_TWy2-p2VPh",
        "outputId": "fb479654-4c61-429a-a040-578bc4e3237c"
      },
      "outputs": [
        {
          "output_type": "display_data",
          "data": {
            "text/plain": [
              "<Figure size 1000x600 with 1 Axes>"
            ],
            "image/png": "[encoded data removed]"
          },
          "metadata": {}
        }
      ],
      "source": [
        "plt.figure(figsize=(10, 6))\n",
        "plt.bar(labels, counts, color='skyblue')\n",
        "plt.xlabel('Genre')\n",
        "plt.ylabel('Count')\n",
        "plt.title('Counts of Selected Genres')\n",
        "plt.xticks(rotation=45)\n",
        "plt.show()"
      ]
    }
  ],
  "metadata": {
    "colab": {
      "provenance": []
    },
    "kernelspec": {
      "display_name": "Python 3",
      "name": "python3"
    },
    "language_info": {
      "codemirror_mode": {
        "name": "ipython",
        "version": 3
      },
      "file_extension": ".py",
      "mimetype": "text/x-python",
      "name": "python",
      "nbconvert_exporter": "python",
      "pygments_lexer": "ipython3",
      "version": "3.11.4"
    }
  },
  "nbformat": 4,
  "nbformat_minor": 0
}