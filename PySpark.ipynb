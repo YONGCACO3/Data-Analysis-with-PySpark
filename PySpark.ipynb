{
  "cells": [
    {
      "cell_type": "markdown",
      "metadata": {
        "id": "F2YNhXuUwGNl"
      },
      "source": [
        "# Comprehensive Data Analysis with PySpark"
      ]
    },
    {
      "cell_type": "markdown",
      "metadata": {},
      "source": [
        "# Introduction\n",
        "\n",
        "In this notebook, we will be exploring the powerful capabilities of PySpark. PySpark is the Python library for Apache Spark, an open-source, distributed computing system used for big data processing and analytics.\n",
        "\n",
        "We will be using Google Colab for our work. While not strictly necessary for PySpark, Google Colab provides several advantages. It offers a convenient, cloud-based environment for using PySpark, providing free access to computational resources like CPUs and GPUs\n",
        "\n",
        "Our journey will take us through the process of installing PySpark, loading and cleaning data, performing some exploratory data analysis, and finally, drawing some conclusions from our data. We hope this notebook serves as a useful guide for your own data processing and analysis tasks with PySpark."
      ]
    },
    {
      "cell_type": "markdown",
      "metadata": {},
      "source": [
        "# Table of Contents\n",
        "1. [Introduction](#Introduction)\n",
        "2. [Exploratory Data Analysis (EDA) on the First Dataset](#eda-first-dataset)\n",
        "3. [Query the data](#eda-first-dataset)\n",
        "4. [EDA on another dataset, query & visulization](#eda-second-dataset)\n",
        "5. [Join the two datasets, query & visualization](#eda-joined-dataset)\n"
      ]
    },
    {
      "cell_type": "markdown",
      "metadata": {},
      "source": [
        "### Let's mount the google drive"
      ]
    },
    {
      "cell_type": "code",
      "execution_count": null,
      "metadata": {
        "colab": {
          "base_uri": "https://localhost:8080/"
        },
        "id": "MmQC7J5cvkzE",
        "outputId": "baa26777-86d6-4b00-d1bd-9fabf245c0fe"
      },
      "outputs": [],
      "source": [
        "# from google.colab import drive\n",
        "# drive.mount('/content/drive')"
      ]
    },
    {
      "cell_type": "markdown",
      "metadata": {
        "id": "cs9EInKyWicZ"
      },
      "source": [
        "Installing pyspark module\n",
        "\n"
      ]
    },
    {
      "cell_type": "code",
      "execution_count": null,
      "metadata": {},
      "outputs": [],
      "source": [
        "# !pip install pyspark"
      ]
    },
    {
      "cell_type": "markdown",
      "metadata": {
        "id": "dVNAlw2jWiWb"
      },
      "source": [
        "Importing the modules"
      ]
    },
    {
      "cell_type": "code",
      "execution_count": null,
      "metadata": {
        "id": "gS3YIWJiW7I3"
      },
      "outputs": [],
      "source": [
        "\n",
        "from pyspark.sql import SparkSession \n",
        "from pyspark.sql.functions import count, desc , col, max, when, struct\n",
        "import matplotlib.pyplot as plt\n",
        "import pandas as pd\n",
        "import seaborn as sns"
      ]
    },
    {
      "cell_type": "markdown",
      "metadata": {
        "id": "RKuIUYLwSkNP"
      },
      "source": [
        "Creating spark session"
      ]
    },
    {
      "cell_type": "code",
      "execution_count": null,
      "metadata": {
        "cellView": "both",
        "id": "XXSZBvRgSnCN"
      },
      "outputs": [],
      "source": [
        "spark = SparkSession.builder.appName('spark_app').getOrCreate()"
      ]
    },
    {
      "cell_type": "markdown",
      "metadata": {
        "id": "vv_SKqr8T9mT"
      },
      "source": [
        "# Task 1 : EDA on the First Dataset <a id='eda-first-dataset'></a>\n",
        "importing the *Listenings.csv* file:"
      ]
    },
    {
      "cell_type": "code",
      "execution_count": null,
      "metadata": {
        "id": "gK22lJDRTuKY"
      },
      "outputs": [],
      "source": [
        "listening_df = spark.read.csv('/content/drive/MyDrive/dataset/listenings.csv', inferSchema=True, header=True) # direct read approach\n",
        "\n",
        "# Format & options appraoch\n",
        "# listening_df = spark.read.format('csv').option('inferSchema', True).option('header', True).load('/content/drive/MyDrive/dataset/listenings.csv')"
      ]
    },
    {
      "cell_type": "markdown",
      "metadata": {
        "id": "s1i6KVshykdn"
      },
      "source": [
        "let's check the data:"
      ]
    },
    {
      "cell_type": "code",
      "execution_count": null,
      "metadata": {
        "colab": {
          "base_uri": "https://localhost:8080/"
        },
        "id": "5Ji0zViUyjUE",
        "outputId": "183b448e-19c0-44c2-80bc-60cdb8286e7a"
      },
      "outputs": [],
      "source": [
        "listening_df.show(10)"
      ]
    },
    {
      "cell_type": "markdown",
      "metadata": {},
      "source": [
        "let's see the shape of our dataframe before cleaning"
      ]
    },
    {
      "cell_type": "code",
      "execution_count": null,
      "metadata": {
        "colab": {
          "base_uri": "https://localhost:8080/"
        },
        "id": "RXLf7ox7qRwe",
        "outputId": "34a44c18-8f16-4772-fbe3-ef29c5935d34"
      },
      "outputs": [],
      "source": [
        "shape = (listening_df.count(), len(listening_df.columns))\n",
        "print(shape)"
      ]
    },
    {
      "cell_type": "code",
      "execution_count": null,
      "metadata": {
        "colab": {
          "base_uri": "https://localhost:8080/"
        },
        "id": "5Sfm8y8VoZih",
        "outputId": "83a189fd-e65e-4668-83d8-fd7c8d5b4b00"
      },
      "outputs": [],
      "source": [
        "# check the schema\n",
        "listening_df.printSchema()"
      ]
    },
    {
      "cell_type": "code",
      "execution_count": null,
      "metadata": {
        "colab": {
          "base_uri": "https://localhost:8080/"
        },
        "id": "tJMVihLTpS-a",
        "outputId": "d76b4db5-c428-48f9-fd12-69d858ad4668"
      },
      "outputs": [],
      "source": [
        "# check if there are null values\n",
        "listening_df.select([count(when(col(c).isNull(), c)).alias(c) for c in listening_df.columns]).show()"
      ]
    },
    {
      "cell_type": "markdown",
      "metadata": {
        "id": "HS6wd2d_woNC"
      },
      "source": [
        "let's delete useless columns:"
      ]
    },
    {
      "cell_type": "code",
      "execution_count": null,
      "metadata": {
        "id": "pIMzBAglwtNP"
      },
      "outputs": [],
      "source": [
        "listening_df = listening_df.drop('date')"
      ]
    },
    {
      "cell_type": "markdown",
      "metadata": {
        "id": "MwpJJeWa4qmn"
      },
      "source": [
        "drop the null values:"
      ]
    },
    {
      "cell_type": "code",
      "execution_count": null,
      "metadata": {
        "id": "Botf6-Vb4uqs"
      },
      "outputs": [],
      "source": [
        "listening_df = listening_df.na.drop()"
      ]
    },
    {
      "cell_type": "markdown",
      "metadata": {
        "id": "tTN6jr3K4xkF"
      },
      "source": [
        "let's check the dataset again:"
      ]
    },
    {
      "cell_type": "code",
      "execution_count": null,
      "metadata": {
        "colab": {
          "base_uri": "https://localhost:8080/"
        },
        "id": "JDp_rdEY40u3",
        "outputId": "7d5ca078-4ec9-48f1-d86c-0e7eb0544633"
      },
      "outputs": [],
      "source": [
        "listening_df.show()"
      ]
    },
    {
      "cell_type": "markdown",
      "metadata": {
        "id": "JMkQsQt2xSb5"
      },
      "source": [
        "let's see the shape of our dataframe after cleaning"
      ]
    },
    {
      "cell_type": "code",
      "execution_count": null,
      "metadata": {
        "colab": {
          "base_uri": "https://localhost:8080/"
        },
        "id": "6POkV3YFmh6b",
        "outputId": "f53febbf-2b66-44b7-f40e-7c13808dec2b"
      },
      "outputs": [],
      "source": [
        "shape = (listening_df.count(), len(listening_df.columns))\n",
        "print(shape)"
      ]
    },
    {
      "cell_type": "markdown",
      "metadata": {
        "id": "XMD0DhFl2FEJ"
      },
      "source": [
        "# Task 2: Query the data <a id='query-data'></a>\n",
        "\n",
        "**Query #0:**\n",
        "select two columns: track and artist"
      ]
    },
    {
      "cell_type": "code",
      "execution_count": null,
      "metadata": {
        "colab": {
          "base_uri": "https://localhost:8080/"
        },
        "id": "FZTdA5wn2TZy",
        "outputId": "034596f7-5986-49c1-e8de-1686eb42b522"
      },
      "outputs": [],
      "source": [
        "q0 = listening_df.select('artist', 'track')\n",
        "q0.show(truncate=False)"
      ]
    },
    {
      "cell_type": "markdown",
      "metadata": {
        "id": "QRcgXOFs2hjw"
      },
      "source": [
        "**Query #1**:\n",
        "\n",
        "Let's find all of the records of those users who have listened to ***Rihanna***"
      ]
    },
    {
      "cell_type": "code",
      "execution_count": null,
      "metadata": {
        "colab": {
          "base_uri": "https://localhost:8080/"
        },
        "id": "ICyiTMVnppLw",
        "outputId": "556c7f2a-1852-46b3-d720-c996c47fced7"
      },
      "outputs": [],
      "source": [
        "q1 = listening_df.filter(col('artist') == 'Rihanna')\n",
        "q1.show(truncate=False)"
      ]
    },
    {
      "cell_type": "markdown",
      "metadata": {
        "id": "I0IafeyvFU9O"
      },
      "source": [
        "**Query #2:**\n",
        "\n",
        "Let's find top 10 users who are fan of ***Rihanna***"
      ]
    },
    {
      "cell_type": "code",
      "execution_count": null,
      "metadata": {
        "colab": {
          "base_uri": "https://localhost:8080/"
        },
        "id": "3-hM9kMm7JmI",
        "outputId": "1c02b051-19de-47dd-d924-47c354f859fb"
      },
      "outputs": [],
      "source": [
        "q2 = listening_df.select('user_id').filter(col('artist') == 'Rihanna') \\\n",
        "     .groupby('user_id').agg(count('user_id').alias('count')) \\\n",
        "     .orderBy(desc('count')).limit(10)\n",
        "\n",
        "q2.show()"
      ]
    },
    {
      "cell_type": "markdown",
      "metadata": {
        "id": "hgAAl6aAcp41"
      },
      "source": [
        "**Query #3:**\n",
        "\n",
        "find top 10 famous tracks"
      ]
    },
    {
      "cell_type": "code",
      "execution_count": null,
      "metadata": {
        "colab": {
          "base_uri": "https://localhost:8080/"
        },
        "id": "qlh3IUzfJ3_I",
        "outputId": "1cff171f-d47f-4d52-f4ad-7a0d34fa7095"
      },
      "outputs": [],
      "source": [
        "q3 = (listening_df\n",
        "      .groupby('artist', 'track')\n",
        "      .agg(count('*').alias('count'))\n",
        "      .orderBy(desc('count'))\n",
        "      .limit(10))\n",
        "\n",
        "q3.show()"
      ]
    },
    {
      "cell_type": "markdown",
      "metadata": {
        "id": "HqhPhQvjeXt0"
      },
      "source": [
        "**Query #4:**\n",
        "\n",
        "find top 10 famous tracks of ***Rihanna***"
      ]
    },
    {
      "cell_type": "code",
      "execution_count": null,
      "metadata": {
        "colab": {
          "base_uri": "https://localhost:8080/"
        },
        "id": "D_npmdh1ec8y",
        "outputId": "0f0e3bca-30da-42fa-e6ed-0deb910d4605"
      },
      "outputs": [],
      "source": [
        "q4 = (listening_df\n",
        "      .filter(col('artist') == 'Rihanna')\n",
        "      .groupby('artist', 'track')\n",
        "      .agg(count('*').alias('count'))\n",
        "      .orderBy(desc('count'))\n",
        "      .limit(10))\n",
        "\n",
        "q4.show()"
      ]
    },
    {
      "cell_type": "markdown",
      "metadata": {
        "id": "E6pgcH0p1ZXo"
      },
      "source": [
        "**Query #5:**\n",
        "\n",
        "find top 10 famous albums"
      ]
    },
    {
      "cell_type": "code",
      "execution_count": null,
      "metadata": {
        "colab": {
          "base_uri": "https://localhost:8080/"
        },
        "id": "c5YHm6yKenE7",
        "outputId": "a7cfe78d-0444-443e-e218-1f99c7a92866"
      },
      "outputs": [],
      "source": [
        "q5 = (listening_df\n",
        "      .groupby('artist', 'album')\n",
        "      .agg(count('*').alias('count'))\n",
        "      .orderBy(col('count'))\n",
        "      .limit(10))\n",
        "\n",
        "q5.show()"
      ]
    },
    {
      "cell_type": "markdown",
      "metadata": {
        "id": "YXev8HQ57bdq"
      },
      "source": [
        "# Task 3 : EDA on another dataset, query & visulization <a id='eda-second-dataset'></a>\n",
        "importing the ***genre.csv*** file:"
      ]
    },
    {
      "cell_type": "code",
      "execution_count": null,
      "metadata": {
        "id": "tpXSrYfu14PB"
      },
      "outputs": [],
      "source": [
        "genre_df = spark.read.format('csv').option('inferSchema', True).option('header', True).load('/content/drive/MyDrive/dataset/genre.csv')"
      ]
    },
    {
      "cell_type": "markdown",
      "metadata": {
        "id": "aCHSo36W9RcP"
      },
      "source": [
        "let's check the data"
      ]
    },
    {
      "cell_type": "code",
      "execution_count": null,
      "metadata": {
        "colab": {
          "base_uri": "https://localhost:8080/"
        },
        "id": "LJu4Ouz89O6_",
        "outputId": "288c2374-06a5-4fcc-acb0-392b49d4f597"
      },
      "outputs": [],
      "source": [
        "genre_df.show()"
      ]
    },
    {
      "cell_type": "markdown",
      "metadata": {},
      "source": [
        "check the top 10 genres"
      ]
    },
    {
      "cell_type": "code",
      "execution_count": null,
      "metadata": {
        "colab": {
          "base_uri": "https://localhost:8080/"
        },
        "id": "KnWjCSOUvOig",
        "outputId": "ea67ea93-98c6-445c-98c5-8b12fe1808cd"
      },
      "outputs": [],
      "source": [
        "top_genres = (genre_df.groupBy('genre')\n",
        "              .agg(count('genre').alias('count'))\n",
        "              .orderBy('count', ascending=False)\n",
        "              .limit(10))\n",
        "top_genres.show()"
      ]
    },
    {
      "cell_type": "markdown",
      "metadata": {},
      "source": [
        "Visualize the top 10 genres"
      ]
    },
    {
      "cell_type": "code",
      "execution_count": null,
      "metadata": {
        "colab": {
          "base_uri": "https://localhost:8080/",
          "height": 564
        },
        "id": "4rRHnW7FwNFP",
        "outputId": "7313a7f2-b9b3-49d2-9f88-c2f4861048a6"
      },
      "outputs": [],
      "source": [
        "# Convert to Pandas DataFrame\n",
        "top_genres_pd = top_genres.toPandas()\n",
        "\n",
        "# Plotting\n",
        "plt.figure(figsize=(10, 6))\n",
        "sns.barplot(x='count', y='genre', data=top_genres_pd, palette='viridis')\n",
        "plt.title('Top 10 Genres')\n",
        "plt.xlabel('Count')\n",
        "plt.ylabel('Genre')\n",
        "plt.show()\n"
      ]
    },
    {
      "cell_type": "code",
      "execution_count": null,
      "metadata": {
        "colab": {
          "base_uri": "https://localhost:8080/"
        },
        "id": "B8HOgJlafzSt",
        "outputId": "6bac4933-8f49-4b55-fd4e-5bc57f3b95d0"
      },
      "outputs": [],
      "source": [
        "listening_df.show()"
      ]
    },
    {
      "cell_type": "markdown",
      "metadata": {
        "id": "YHyPzL4P1TSC"
      },
      "source": [
        "Let's inner join these two data frames"
      ]
    },
    {
      "cell_type": "code",
      "execution_count": null,
      "metadata": {
        "colab": {
          "base_uri": "https://localhost:8080/"
        },
        "id": "FTjl-MF2wksE",
        "outputId": "0bb2386e-e787-4b1a-c958-dfabe389bbb5"
      },
      "outputs": [],
      "source": [
        "# Remove all duplicate rows in the genre dataset\n",
        "df_cleaned = genre_df.dropDuplicates()\n",
        "\n",
        "# Join the two datasets\n",
        "data = listening_df.join(df_cleaned, ['artist'], 'inner')\n",
        "data.show()\n",
        "\n",
        "# After joining the two datasets, we can see that there are some abnormal values in the genre column.\n",
        "# After checkinh the orighinal dataset, we can find that the genre column contains some values that are not genres. \n",
        "# This is because the source dataset is not clean, where the name of artists are also included in the genre column.\n",
        "# Considering that the number of these abnormal values is large, futher cleaning is needed."
      ]
    },
    {
      "cell_type": "markdown",
      "metadata": {
        "id": "yM_f5qILBNeI"
      },
      "source": [
        "**Query #6**\n",
        "\n",
        "find top 10 users who are fan of ***pop*** music"
      ]
    },
    {
      "cell_type": "code",
      "execution_count": null,
      "metadata": {
        "colab": {
          "base_uri": "https://localhost:8080/"
        },
        "id": "dognQVlxBi2n",
        "outputId": "378a280f-c952-4f64-8612-0a8cf04c7707"
      },
      "outputs": [],
      "source": [
        "q6 = (data.filter(col('genre') == 'pop')\n",
        "      .groupBy('user_id')\n",
        "      .agg(count('*').alias('count'))\n",
        "      .orderBy(desc('count'))\n",
        "      .limit(10))\n",
        "\n",
        "q6.show()"
      ]
    },
    {
      "cell_type": "markdown",
      "metadata": {
        "id": "63quzy7t-zb7"
      },
      "source": [
        "**Query #7**\n",
        "\n",
        "find top 10 famous genres"
      ]
    },
    {
      "cell_type": "code",
      "execution_count": null,
      "metadata": {
        "colab": {
          "base_uri": "https://localhost:8080/"
        },
        "id": "aDFcoPPk-Rhf",
        "outputId": "101ac7e4-1fc8-4746-cc57-1559fc2e9547"
      },
      "outputs": [],
      "source": [
        "q7 = (data.groupBy('genre')\n",
        "      .agg(count('*').alias('count'))\n",
        "      .orderBy(desc('count'))\n",
        "      .limit(10))\n",
        "\n",
        "q7.show()"
      ]
    },
    {
      "cell_type": "markdown",
      "metadata": {
        "id": "hrZOAWVgLMZo"
      },
      "source": [
        "# Task 4: Join the two datasets, query & visualization <a id='eda-joined-dataset'></a>\n",
        "**Query #8**\n",
        "\n",
        "find out each user favourite genre"
      ]
    },
    {
      "cell_type": "code",
      "execution_count": null,
      "metadata": {
        "colab": {
          "base_uri": "https://localhost:8080/"
        },
        "id": "H3AWxlkbLvCg",
        "outputId": "f8facfe3-681e-41a2-c316-649e4f5f1646"
      },
      "outputs": [],
      "source": [
        "# To find out each user's favorite genre, we need to count the number of times each user listens to each genre first.\n",
        "# Counting Genres per User\n",
        "q8_1 = (data.groupBy('user_id', 'genre')\n",
        "        .agg(count('*').alias('count'))\n",
        "        .orderBy('user_id'))\n",
        "\n",
        "q8_1.show()"
      ]
    },
    {
      "cell_type": "code",
      "execution_count": null,
      "metadata": {
        "colab": {
          "base_uri": "https://localhost:8080/"
        },
        "id": "Soy2bMxQN-Ub",
        "outputId": "65c76ced-d6e6-4015-aa62-a74757debb3b"
      },
      "outputs": [],
      "source": [
        "#Finding Most Frequent Genre per User\n",
        "q8_2 = (q8_1.groupBy('user_id')\n",
        "        .agg(max(struct(col('count'), col('genre'))).alias('max'))\n",
        "        .select(col('user_id'), col('max.genre')))\n",
        "\n",
        "q8_2.show()"
      ]
    },
    {
      "cell_type": "markdown",
      "metadata": {
        "id": "6oIyhOHkCDuv"
      },
      "source": [
        "**Query #9**\n",
        "\n",
        "find out how many pop,rock,metal and hip hop singers we have and then visulize it using bar chart"
      ]
    },
    {
      "cell_type": "code",
      "execution_count": null,
      "metadata": {
        "colab": {
          "base_uri": "https://localhost:8080/"
        },
        "id": "7_lEjNKVCDJv",
        "outputId": "87430619-9511-41f4-eafa-61d4f368c475"
      },
      "outputs": [],
      "source": [
        "q9 = (genre_df.select('genre')\n",
        "      .filter(col('genre').isin('pop', 'rock', 'metal', 'hip hop'))\n",
        "      .groupby('genre')\n",
        "      .agg(count('genre').alias('count')))\n",
        "q9.show()"
      ]
    },
    {
      "cell_type": "markdown",
      "metadata": {
        "id": "h0h2SSk8InMH"
      },
      "source": [
        "Now, let's visualize the results using ***matplotlib***"
      ]
    },
    {
      "cell_type": "code",
      "execution_count": null,
      "metadata": {
        "id": "J-n8gOC0Imj5"
      },
      "outputs": [],
      "source": [
        "q9_list = q9.collect()"
      ]
    },
    {
      "cell_type": "code",
      "execution_count": null,
      "metadata": {
        "id": "CMigHLrEQgKv"
      },
      "outputs": [],
      "source": [
        "labels = [row['genre'] for row in q9_list]\n",
        "counts = [row['count'] for row in q9_list]"
      ]
    },
    {
      "cell_type": "code",
      "execution_count": null,
      "metadata": {
        "colab": {
          "base_uri": "https://localhost:8080/"
        },
        "id": "FYLE4Mbu_Lbu",
        "outputId": "82056df3-7bca-478c-f458-5c60743485d7"
      },
      "outputs": [],
      "source": [
        "print(labels)\n",
        "print(counts)"
      ]
    },
    {
      "cell_type": "markdown",
      "metadata": {
        "id": "1iDrvEwYQ4AE"
      },
      "source": [
        "now lets visualize these two lists using a bar chart"
      ]
    },
    {
      "cell_type": "code",
      "execution_count": null,
      "metadata": {
        "colab": {
          "base_uri": "https://localhost:8080/",
          "height": 597
        },
        "id": "a_TWy2-p2VPh",
        "outputId": "a52197dc-f75b-4b03-e5fa-5181f00c7dc6"
      },
      "outputs": [],
      "source": [
        "plt.figure(figsize=(10, 6))\n",
        "plt.bar(labels, counts, color='skyblue')\n",
        "plt.xlabel('Genre')\n",
        "plt.ylabel('Count')\n",
        "plt.title('Counts of Selected Genres')\n",
        "plt.xticks(rotation=45)\n",
        "plt.show()"
      ]
    }
  ],
  "metadata": {
    "colab": {
      "provenance": []
    },
    "kernelspec": {
      "display_name": "Python 3",
      "name": "python3"
    }
  },
  "nbformat": 4,
  "nbformat_minor": 0
}
